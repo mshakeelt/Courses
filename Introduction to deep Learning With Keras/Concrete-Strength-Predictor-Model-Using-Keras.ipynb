{
 "cells": [
  {
   "cell_type": "markdown",
   "metadata": {},
   "source": [
    "# <b> Peer-graded Assignment: Building a Regression Model in Keras </b>"
   ]
  },
  {
   "cell_type": "markdown",
   "metadata": {},
   "source": [
    "## Part A"
   ]
  },
  {
   "cell_type": "code",
   "execution_count": 1,
   "metadata": {},
   "outputs": [],
   "source": [
    "import pandas as pd\n",
    "import numpy as np\n",
    "concrete_data = pd.read_csv('https://s3-api.us-geo.objectstorage.softlayer.net/cf-courses-data/CognitiveClass/DL0101EN/labs/data/concrete_data.csv')\n",
    "concrete_data_columns = concrete_data.columns\n",
    "\n",
    "predictors = concrete_data[concrete_data_columns[concrete_data_columns != 'Strength']] # all columns except Strength\n",
    "target = concrete_data['Strength'] # Strength column\n",
    "n_cols = predictors.shape[1]"
   ]
  },
  {
   "cell_type": "code",
   "execution_count": 2,
   "metadata": {},
   "outputs": [
    {
     "name": "stderr",
     "output_type": "stream",
     "text": [
      "Using TensorFlow backend.\n",
      "/home/jupyterlab/conda/envs/python/lib/python3.6/site-packages/tensorflow/python/framework/dtypes.py:519: FutureWarning: Passing (type, 1) or '1type' as a synonym of type is deprecated; in a future version of numpy, it will be understood as (type, (1,)) / '(1,)type'.\n",
      "  _np_qint8 = np.dtype([(\"qint8\", np.int8, 1)])\n",
      "/home/jupyterlab/conda/envs/python/lib/python3.6/site-packages/tensorflow/python/framework/dtypes.py:520: FutureWarning: Passing (type, 1) or '1type' as a synonym of type is deprecated; in a future version of numpy, it will be understood as (type, (1,)) / '(1,)type'.\n",
      "  _np_quint8 = np.dtype([(\"quint8\", np.uint8, 1)])\n",
      "/home/jupyterlab/conda/envs/python/lib/python3.6/site-packages/tensorflow/python/framework/dtypes.py:521: FutureWarning: Passing (type, 1) or '1type' as a synonym of type is deprecated; in a future version of numpy, it will be understood as (type, (1,)) / '(1,)type'.\n",
      "  _np_qint16 = np.dtype([(\"qint16\", np.int16, 1)])\n",
      "/home/jupyterlab/conda/envs/python/lib/python3.6/site-packages/tensorflow/python/framework/dtypes.py:522: FutureWarning: Passing (type, 1) or '1type' as a synonym of type is deprecated; in a future version of numpy, it will be understood as (type, (1,)) / '(1,)type'.\n",
      "  _np_quint16 = np.dtype([(\"quint16\", np.uint16, 1)])\n",
      "/home/jupyterlab/conda/envs/python/lib/python3.6/site-packages/tensorflow/python/framework/dtypes.py:523: FutureWarning: Passing (type, 1) or '1type' as a synonym of type is deprecated; in a future version of numpy, it will be understood as (type, (1,)) / '(1,)type'.\n",
      "  _np_qint32 = np.dtype([(\"qint32\", np.int32, 1)])\n",
      "/home/jupyterlab/conda/envs/python/lib/python3.6/site-packages/tensorflow/python/framework/dtypes.py:528: FutureWarning: Passing (type, 1) or '1type' as a synonym of type is deprecated; in a future version of numpy, it will be understood as (type, (1,)) / '(1,)type'.\n",
      "  np_resource = np.dtype([(\"resource\", np.ubyte, 1)])\n"
     ]
    }
   ],
   "source": [
    "import keras\n",
    "from keras.models import Sequential\n",
    "from keras.layers import Dense\n",
    "\n",
    "# define regression model\n",
    "def regression_model():\n",
    "    # create model\n",
    "    model = Sequential()\n",
    "    model.add(Dense(10, activation='relu', input_shape=(n_cols,)))\n",
    "    model.add(Dense(1))\n",
    "    \n",
    "    # compile model\n",
    "    model.compile(optimizer='adam', loss='mean_squared_error')\n",
    "    return model"
   ]
  },
  {
   "cell_type": "code",
   "execution_count": 11,
   "metadata": {},
   "outputs": [
    {
     "name": "stdout",
     "output_type": "stream",
     "text": [
      "Mean squared error: 126.29349122419045\n",
      "Mean squared error: 96.76143297806836\n",
      "Mean squared error: 147.78868716177516\n",
      "Mean squared error: 296.0136465608284\n",
      "Mean squared error: 91.91169310247287\n",
      "Mean squared error: 127.28017751071708\n",
      "Mean squared error: 111.08590586565504\n",
      "Mean squared error: 1045.128800130171\n",
      "Mean squared error: 813.8786820929685\n",
      "Mean squared error: 179.3520821927464\n",
      "Mean squared error: 1183.900762301564\n",
      "Mean squared error: 177.73368351466274\n",
      "Mean squared error: 105.84584134997014\n",
      "Mean squared error: 152.99098443251918\n",
      "Mean squared error: 1266.5163162432736\n",
      "Mean squared error: 224.18216239510807\n",
      "Mean squared error: 1433.161435648347\n",
      "Mean squared error: 97.24766117212071\n",
      "Mean squared error: 133.49096876834173\n",
      "Mean squared error: 209.16763797720756\n",
      "Mean squared error: 78.23726398522132\n",
      "Mean squared error: 125.40655739993035\n",
      "Mean squared error: 240.46431901946133\n",
      "Mean squared error: 156.14505772688005\n",
      "Mean squared error: 148.5061821351979\n",
      "Mean squared error: 119.4473151225429\n",
      "Mean squared error: 99.63844957190675\n",
      "Mean squared error: 157.38658191931367\n",
      "Mean squared error: 580.293596323134\n",
      "Mean squared error: 125.5075017468461\n",
      "Mean squared error: 1830.3657767791467\n",
      "Mean squared error: 155.6157196961666\n",
      "Mean squared error: 1653.8798187348345\n",
      "Mean squared error: 302.36657746708187\n",
      "Mean squared error: 233.67593250571161\n",
      "Mean squared error: 557.0317678715978\n",
      "Mean squared error: 376.03814105361295\n",
      "Mean squared error: 145.66496516902959\n",
      "Mean squared error: 738.1506292474226\n",
      "Mean squared error: 170.22941133979353\n",
      "Mean squared error: 187.9324333183979\n",
      "Mean squared error: 172.0389048662284\n",
      "Mean squared error: 111.86477974353117\n",
      "Mean squared error: 157.10336332825722\n",
      "Mean squared error: 143.2944396350335\n",
      "Mean squared error: 339.97054921318096\n",
      "Mean squared error: 139.88501788943628\n",
      "Mean squared error: 115.07271265036918\n",
      "Mean squared error: 139.27898367952034\n",
      "Mean squared error: 540.2464323042942\n"
     ]
    },
    {
     "data": {
      "text/plain": [
       "[126.29349122419045,\n",
       " 96.76143297806836,\n",
       " 147.78868716177516,\n",
       " 296.0136465608284,\n",
       " 91.91169310247287,\n",
       " 127.28017751071708,\n",
       " 111.08590586565504,\n",
       " 1045.128800130171,\n",
       " 813.8786820929685,\n",
       " 179.3520821927464,\n",
       " 1183.900762301564,\n",
       " 177.73368351466274,\n",
       " 105.84584134997014,\n",
       " 152.99098443251918,\n",
       " 1266.5163162432736,\n",
       " 224.18216239510807,\n",
       " 1433.161435648347,\n",
       " 97.24766117212071,\n",
       " 133.49096876834173,\n",
       " 209.16763797720756,\n",
       " 78.23726398522132,\n",
       " 125.40655739993035,\n",
       " 240.46431901946133,\n",
       " 156.14505772688005,\n",
       " 148.5061821351979,\n",
       " 119.4473151225429,\n",
       " 99.63844957190675,\n",
       " 157.38658191931367,\n",
       " 580.293596323134,\n",
       " 125.5075017468461,\n",
       " 1830.3657767791467,\n",
       " 155.6157196961666,\n",
       " 1653.8798187348345,\n",
       " 302.36657746708187,\n",
       " 233.67593250571161,\n",
       " 557.0317678715978,\n",
       " 376.03814105361295,\n",
       " 145.66496516902959,\n",
       " 738.1506292474226,\n",
       " 170.22941133979353,\n",
       " 187.9324333183979,\n",
       " 172.0389048662284,\n",
       " 111.86477974353117,\n",
       " 157.10336332825722,\n",
       " 143.2944396350335,\n",
       " 339.97054921318096,\n",
       " 139.88501788943628,\n",
       " 115.07271265036918,\n",
       " 139.27898367952034,\n",
       " 540.2464323042942]"
      ]
     },
     "execution_count": 11,
     "metadata": {},
     "output_type": "execute_result"
    }
   ],
   "source": [
    "from sklearn.model_selection import train_test_split\n",
    "from sklearn.metrics import mean_squared_error\n",
    "mselist=[]\n",
    "for i in range(50):\n",
    "    X_train, X_test, y_train, y_test = train_test_split(predictors, target, test_size=0.3, random_state=42)\n",
    "    model = regression_model()\n",
    "    model.fit(X_train, y_train, validation_data=(X_test, y_test), epochs=50, verbose=0)\n",
    "    y_pred = model.predict(X_test)\n",
    "    mse=mean_squared_error(y_test, y_pred)\n",
    "    mselist.append(mse)\n",
    "    print('Mean squared error:',mse )\n",
    "mselist"
   ]
  },
  {
   "cell_type": "code",
   "execution_count": 14,
   "metadata": {},
   "outputs": [
    {
     "name": "stdout",
     "output_type": "stream",
     "text": [
      "Mean is:  361.2094246813158 \n",
      "Standard Deviation is:  426.48690673338723\n"
     ]
    }
   ],
   "source": [
    "import numpy as np\n",
    "StandardDeviation=np.std(mselist)\n",
    "Mean=np.mean(mselist)\n",
    "print(\"Mean is: \",Mean,\"\\nStandard Deviation is: \",StandardDeviation)"
   ]
  },
  {
   "cell_type": "markdown",
   "metadata": {},
   "source": [
    "### So the mean of MSE for Part A is 361.2 and STd is 426.48.\n",
    "# -----------------------------------------------------------------------"
   ]
  },
  {
   "cell_type": "markdown",
   "metadata": {},
   "source": [
    "## Part B"
   ]
  },
  {
   "cell_type": "code",
   "execution_count": 16,
   "metadata": {},
   "outputs": [
    {
     "name": "stdout",
     "output_type": "stream",
     "text": [
      "Mean squared error of epoch # 1  is: 466.0394893573828\n",
      "Mean squared error of epoch # 2  is: 634.4509962897233\n",
      "Mean squared error of epoch # 3  is: 406.10610377581446\n",
      "Mean squared error of epoch # 4  is: 257.9501185259076\n",
      "Mean squared error of epoch # 5  is: 294.3112752841028\n",
      "Mean squared error of epoch # 6  is: 276.50373821697707\n",
      "Mean squared error of epoch # 7  is: 279.3578397890933\n",
      "Mean squared error of epoch # 8  is: 537.3595672037185\n",
      "Mean squared error of epoch # 9  is: 381.14095504792886\n",
      "Mean squared error of epoch # 10  is: 354.3396322250202\n",
      "Mean squared error of epoch # 11  is: 229.68581606190642\n",
      "Mean squared error of epoch # 12  is: 277.67998056145046\n",
      "Mean squared error of epoch # 13  is: 317.0380019284259\n",
      "Mean squared error of epoch # 14  is: 400.43565734007683\n",
      "Mean squared error of epoch # 15  is: 323.55833566257627\n",
      "Mean squared error of epoch # 16  is: 416.27510773467236\n",
      "Mean squared error of epoch # 17  is: 405.6195149091279\n",
      "Mean squared error of epoch # 18  is: 312.680030753854\n",
      "Mean squared error of epoch # 19  is: 207.8806436141474\n",
      "Mean squared error of epoch # 20  is: 263.3500261670056\n",
      "Mean squared error of epoch # 21  is: 432.4247064000187\n",
      "Mean squared error of epoch # 22  is: 239.6019365435747\n",
      "Mean squared error of epoch # 23  is: 350.78921553426323\n",
      "Mean squared error of epoch # 24  is: 448.09087537344874\n",
      "Mean squared error of epoch # 25  is: 287.8236087670458\n",
      "Mean squared error of epoch # 26  is: 322.1995007659082\n",
      "Mean squared error of epoch # 27  is: 259.43849892370366\n",
      "Mean squared error of epoch # 28  is: 511.173251968111\n",
      "Mean squared error of epoch # 29  is: 288.9747989755748\n",
      "Mean squared error of epoch # 30  is: 514.0215178763351\n",
      "Mean squared error of epoch # 31  is: 496.5777790024792\n",
      "Mean squared error of epoch # 32  is: 407.22815187333754\n",
      "Mean squared error of epoch # 33  is: 395.99825433772895\n",
      "Mean squared error of epoch # 34  is: 355.3478684225135\n",
      "Mean squared error of epoch # 35  is: 491.9065531851354\n",
      "Mean squared error of epoch # 36  is: 216.20314159639997\n",
      "Mean squared error of epoch # 37  is: 652.39804694523\n",
      "Mean squared error of epoch # 38  is: 390.7080414109082\n",
      "Mean squared error of epoch # 39  is: 294.02834068773683\n",
      "Mean squared error of epoch # 40  is: 259.078117259985\n",
      "Mean squared error of epoch # 41  is: 234.30419528608414\n",
      "Mean squared error of epoch # 42  is: 422.0813916058584\n",
      "Mean squared error of epoch # 43  is: 396.35097195308686\n",
      "Mean squared error of epoch # 44  is: 529.511138911482\n",
      "Mean squared error of epoch # 45  is: 324.9262350841094\n",
      "Mean squared error of epoch # 46  is: 330.40249082309487\n",
      "Mean squared error of epoch # 47  is: 336.79136895095803\n",
      "Mean squared error of epoch # 48  is: 267.15782023720783\n",
      "Mean squared error of epoch # 49  is: 345.53097656440116\n",
      "Mean squared error of epoch # 50  is: 306.2157302401552\n",
      "Mean is:  362.98094711909573 \n",
      "Standard Deviation is:  103.75093221909589\n"
     ]
    }
   ],
   "source": [
    "predictors_norm = (predictors - predictors.mean()) / predictors.std()\n",
    "mselist=[]\n",
    "for i in range(50):\n",
    "    X_train, X_test, y_train, y_test = train_test_split(predictors_norm, target, test_size=0.3, random_state=42)\n",
    "    model = regression_model()\n",
    "    model.fit(X_train, y_train, validation_data=(X_test, y_test), epochs=50, verbose=0)\n",
    "    y_pred = model.predict(X_test)\n",
    "    mse=mean_squared_error(y_test, y_pred)\n",
    "    mselist.append(mse)\n",
    "    print('Mean squared error of epoch #',i+1,\" is:\",mse)\n",
    "    \n",
    "StandardDeviation=np.std(mselist)\n",
    "Mean=np.mean(mselist)\n",
    "print(\"Mean is: \",Mean,\"\\nStandard Deviation is: \",StandardDeviation)"
   ]
  },
  {
   "cell_type": "markdown",
   "metadata": {},
   "source": [
    "### So the mean of MSE for Part B is 362.98 and STd is 103.75. As compared to Part A, the mean almost remained the same but STd is considerbly very low. \n",
    "# -----------------------------------------------------------------------"
   ]
  },
  {
   "cell_type": "markdown",
   "metadata": {},
   "source": [
    "## Part C"
   ]
  },
  {
   "cell_type": "code",
   "execution_count": 17,
   "metadata": {},
   "outputs": [
    {
     "name": "stdout",
     "output_type": "stream",
     "text": [
      "Mean squared error of epoch # 1  is: 167.83500457421192\n",
      "Mean squared error of epoch # 2  is: 156.40394927739908\n",
      "Mean squared error of epoch # 3  is: 175.12899030713197\n",
      "Mean squared error of epoch # 4  is: 144.01448685053415\n",
      "Mean squared error of epoch # 5  is: 161.7845667245955\n",
      "Mean squared error of epoch # 6  is: 141.39626884284527\n",
      "Mean squared error of epoch # 7  is: 162.0415969793682\n",
      "Mean squared error of epoch # 8  is: 143.40986685365368\n",
      "Mean squared error of epoch # 9  is: 146.8487977659699\n",
      "Mean squared error of epoch # 10  is: 148.2602162905278\n",
      "Mean squared error of epoch # 11  is: 145.69056014717268\n",
      "Mean squared error of epoch # 12  is: 150.7970727170423\n",
      "Mean squared error of epoch # 13  is: 164.97175442391475\n",
      "Mean squared error of epoch # 14  is: 184.44475153274777\n",
      "Mean squared error of epoch # 15  is: 156.43370535657513\n",
      "Mean squared error of epoch # 16  is: 154.25381070065887\n",
      "Mean squared error of epoch # 17  is: 141.6430418447365\n",
      "Mean squared error of epoch # 18  is: 162.47073168688894\n",
      "Mean squared error of epoch # 19  is: 149.69795289836432\n",
      "Mean squared error of epoch # 20  is: 149.43926314366354\n",
      "Mean squared error of epoch # 21  is: 152.32036385249458\n",
      "Mean squared error of epoch # 22  is: 155.94094783884142\n",
      "Mean squared error of epoch # 23  is: 186.0182539991558\n",
      "Mean squared error of epoch # 24  is: 144.91963530060477\n",
      "Mean squared error of epoch # 25  is: 160.1435949194988\n",
      "Mean squared error of epoch # 26  is: 146.54167069475727\n",
      "Mean squared error of epoch # 27  is: 159.88964917008636\n",
      "Mean squared error of epoch # 28  is: 154.0009185068968\n",
      "Mean squared error of epoch # 29  is: 173.07892626361485\n",
      "Mean squared error of epoch # 30  is: 154.5768934419435\n",
      "Mean squared error of epoch # 31  is: 172.95587605625022\n",
      "Mean squared error of epoch # 32  is: 148.4533950423138\n",
      "Mean squared error of epoch # 33  is: 140.98576236446434\n",
      "Mean squared error of epoch # 34  is: 140.67307761699013\n",
      "Mean squared error of epoch # 35  is: 153.89940400347962\n",
      "Mean squared error of epoch # 36  is: 165.97762891000403\n",
      "Mean squared error of epoch # 37  is: 141.87285804018464\n",
      "Mean squared error of epoch # 38  is: 155.72547905776185\n",
      "Mean squared error of epoch # 39  is: 147.08997665572838\n",
      "Mean squared error of epoch # 40  is: 144.81629412066042\n",
      "Mean squared error of epoch # 41  is: 152.5277512246739\n",
      "Mean squared error of epoch # 42  is: 151.93753714575809\n",
      "Mean squared error of epoch # 43  is: 142.3313391776007\n",
      "Mean squared error of epoch # 44  is: 140.71887146768466\n",
      "Mean squared error of epoch # 45  is: 159.70013321290466\n",
      "Mean squared error of epoch # 46  is: 150.37986880724796\n",
      "Mean squared error of epoch # 47  is: 153.9661817057865\n",
      "Mean squared error of epoch # 48  is: 158.37193718716998\n",
      "Mean squared error of epoch # 49  is: 150.02589106933792\n",
      "Mean squared error of epoch # 50  is: 156.72128450313934\n",
      "Mean is:  258.7257514622982 \n",
      "Standard Deviation is:  127.70718326331607\n"
     ]
    }
   ],
   "source": [
    "for i in range(50):\n",
    "    X_train, X_test, y_train, y_test = train_test_split(predictors_norm, target, test_size=0.3, random_state=42)\n",
    "    model = regression_model()\n",
    "    model.fit(X_train, y_train, validation_data=(X_test, y_test), epochs=100, verbose=0)\n",
    "    y_pred = model.predict(X_test)\n",
    "    mse=mean_squared_error(y_test, y_pred)\n",
    "    mselist.append(mse)\n",
    "    print('Mean squared error of epoch #',i+1,\" is:\",mse)\n",
    "    \n",
    "StandardDeviation=np.std(mselist)\n",
    "Mean=np.mean(mselist)\n",
    "print(\"Mean is: \",Mean,\"\\nStandard Deviation is: \",StandardDeviation)"
   ]
  },
  {
   "cell_type": "markdown",
   "metadata": {},
   "source": [
    "### So the mean of MSE for Part C is 258.73 and STd is 127.71. As compared to Part B, the mean is lower but STd is almost the same. This shows that the increasing the number of epochs the MSE decreases.  \n",
    "# -----------------------------------------------------------------------"
   ]
  },
  {
   "cell_type": "markdown",
   "metadata": {},
   "source": [
    "## Part D"
   ]
  },
  {
   "cell_type": "code",
   "execution_count": 18,
   "metadata": {},
   "outputs": [],
   "source": [
    "def new_regression_model():\n",
    "    # create model\n",
    "    model = Sequential()\n",
    "    model.add(Dense(10, activation='relu', input_shape=(n_cols,)))\n",
    "    model.add(Dense(10, activation='relu'))\n",
    "    model.add(Dense(10, activation='relu'))\n",
    "    model.add(Dense(1))\n",
    "    \n",
    "    # compile model\n",
    "    model.compile(optimizer='adam', loss='mean_squared_error')\n",
    "    return model"
   ]
  },
  {
   "cell_type": "code",
   "execution_count": 20,
   "metadata": {},
   "outputs": [
    {
     "name": "stdout",
     "output_type": "stream",
     "text": [
      "Mean squared error of epoch # 1  is: 129.21012760157143\n",
      "Mean squared error of epoch # 2  is: 88.91996169754194\n",
      "Mean squared error of epoch # 3  is: 104.33099626303344\n",
      "Mean squared error of epoch # 4  is: 126.58184489452307\n",
      "Mean squared error of epoch # 5  is: 99.63102231128273\n",
      "Mean squared error of epoch # 6  is: 109.38860174483129\n",
      "Mean squared error of epoch # 7  is: 125.422371170726\n",
      "Mean squared error of epoch # 8  is: 126.97239952539189\n",
      "Mean squared error of epoch # 9  is: 121.00246885665565\n",
      "Mean squared error of epoch # 10  is: 125.92643674479474\n",
      "Mean squared error of epoch # 11  is: 90.3441880144527\n",
      "Mean squared error of epoch # 12  is: 107.92734984967801\n",
      "Mean squared error of epoch # 13  is: 110.85656967520957\n",
      "Mean squared error of epoch # 14  is: 128.8964320108824\n",
      "Mean squared error of epoch # 15  is: 125.2568484611665\n",
      "Mean squared error of epoch # 16  is: 123.10399710276955\n",
      "Mean squared error of epoch # 17  is: 127.56672083997188\n",
      "Mean squared error of epoch # 18  is: 135.9777366365827\n",
      "Mean squared error of epoch # 19  is: 128.40149747363952\n",
      "Mean squared error of epoch # 20  is: 105.10361218839549\n",
      "Mean squared error of epoch # 21  is: 111.39040801427527\n",
      "Mean squared error of epoch # 22  is: 86.58737938778046\n",
      "Mean squared error of epoch # 23  is: 131.28312797401531\n",
      "Mean squared error of epoch # 24  is: 109.77085730009316\n",
      "Mean squared error of epoch # 25  is: 126.46778794989865\n",
      "Mean squared error of epoch # 26  is: 128.1017406137388\n",
      "Mean squared error of epoch # 27  is: 114.35396993760422\n",
      "Mean squared error of epoch # 28  is: 98.83273795709725\n",
      "Mean squared error of epoch # 29  is: 130.6924576859387\n",
      "Mean squared error of epoch # 30  is: 129.98113044547853\n",
      "Mean squared error of epoch # 31  is: 129.09590651266905\n",
      "Mean squared error of epoch # 32  is: 125.02770035590177\n",
      "Mean squared error of epoch # 33  is: 131.45148977184152\n",
      "Mean squared error of epoch # 34  is: 137.30008778429868\n",
      "Mean squared error of epoch # 35  is: 133.99523300406062\n",
      "Mean squared error of epoch # 36  is: 136.68084372662153\n",
      "Mean squared error of epoch # 37  is: 138.17048110757977\n",
      "Mean squared error of epoch # 38  is: 122.30708906375531\n",
      "Mean squared error of epoch # 39  is: 128.636752912301\n",
      "Mean squared error of epoch # 40  is: 137.7985991080316\n",
      "Mean squared error of epoch # 41  is: 105.47967303865393\n",
      "Mean squared error of epoch # 42  is: 127.12550961446578\n",
      "Mean squared error of epoch # 43  is: 102.80748594480416\n",
      "Mean squared error of epoch # 44  is: 127.3629414610225\n",
      "Mean squared error of epoch # 45  is: 126.36503968100534\n",
      "Mean squared error of epoch # 46  is: 137.32009503798542\n",
      "Mean squared error of epoch # 47  is: 92.02871271882825\n",
      "Mean squared error of epoch # 48  is: 126.6938336846546\n",
      "Mean squared error of epoch # 49  is: 121.29866132550086\n",
      "Mean squared error of epoch # 50  is: 135.3416496795591\n",
      "Mean is:  202.59595238688118 \n",
      "Standard Deviation is:  159.09600612889272\n"
     ]
    }
   ],
   "source": [
    "for i in range(50):\n",
    "    X_train, X_test, y_train, y_test = train_test_split(predictors_norm, target, test_size=0.3, random_state=42)\n",
    "    model = new_regression_model()\n",
    "    model.fit(X_train, y_train, validation_data=(X_test, y_test), epochs=50, verbose=0)\n",
    "    y_pred = model.predict(X_test)\n",
    "    mse=mean_squared_error(y_test, y_pred)\n",
    "    mselist.append(mse)\n",
    "    print('Mean squared error of epoch #',i+1,\" is:\",mse)\n",
    "    \n",
    "StandardDeviation=np.std(mselist)\n",
    "Mean=np.mean(mselist)\n",
    "print(\"Mean is: \",Mean,\"\\nStandard Deviation is: \",StandardDeviation)"
   ]
  },
  {
   "cell_type": "markdown",
   "metadata": {},
   "source": [
    "### So the mean of MSE for Part D is 202.6 and STd is 159.1. As compared to Part B, the mean is considrbly low but Std is bit higher which shows that the MSE in Part D are more spreaded away from the mean. \n",
    "# -----------------------------------------------------------------------"
   ]
  },
  {
   "cell_type": "markdown",
   "metadata": {},
   "source": [
    "# Thank you!"
   ]
  }
 ],
 "metadata": {
  "kernelspec": {
   "display_name": "Python",
   "language": "python",
   "name": "conda-env-python-py"
  },
  "language_info": {
   "codemirror_mode": {
    "name": "ipython",
    "version": 3
   },
   "file_extension": ".py",
   "mimetype": "text/x-python",
   "name": "python",
   "nbconvert_exporter": "python",
   "pygments_lexer": "ipython3",
   "version": "3.6.10"
  }
 },
 "nbformat": 4,
 "nbformat_minor": 4
}
